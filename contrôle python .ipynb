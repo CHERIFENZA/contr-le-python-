{
 "cells": [
  {
   "cell_type": "code",
   "execution_count": 7,
   "id": "ebf9d734",
   "metadata": {},
   "outputs": [
    {
     "data": {
      "text/plain": [
       "['agence', 'carte', 'nom', 'tel', 'numero', 'adresse']"
      ]
     },
     "execution_count": 7,
     "metadata": {},
     "output_type": "execute_result"
    }
   ],
   "source": [
    "L = ['Code client','agence','carte','nom','tel','numero','adresse']\n",
    "L[1:7]"
   ]
  },
  {
   "cell_type": "code",
   "execution_count": 30,
   "id": "95e195f7",
   "metadata": {},
   "outputs": [
    {
     "data": {
      "text/plain": [
       "[('hassan', 15), ('ali', 17), ('ahmed', 18), ('youssef', 19)]"
      ]
     },
     "execution_count": 30,
     "metadata": {},
     "output_type": "execute_result"
    }
   ],
   "source": [
    "liste = [('ahmed', 18), ('ali', 17), ('hassan', 15), ('youssef', 19)]\n",
    "sorted(liste,key=lambda x: x[1])"
   ]
  },
  {
   "cell_type": "code",
   "execution_count": 10,
   "id": "48ff8b9f",
   "metadata": {},
   "outputs": [
    {
     "data": {
      "text/plain": [
       "{'carte a': 400, 'carte b': 400, 'carte c': 300, 'carte d': 1000}"
      ]
     },
     "execution_count": 10,
     "metadata": {},
     "output_type": "execute_result"
    }
   ],
   "source": [
    "dict1 = {'carte a': 100, 'carte b' : 200, 'carte c': 300, 'carte d':600}\n",
    "dict2 = {'carte a': 300, 'carte b' : 200, 'carte d': 400}\n",
    "dict3 = {}\n",
    "for k in dict1 | dict2:\n",
    "    dict3[k] = dict1.get(k, 0)+ dict2.get(k, 0)\n",
    "dict3"
   ]
  },
  {
   "cell_type": "code",
   "execution_count": 49,
   "id": "75c811c3",
   "metadata": {},
   "outputs": [
    {
     "name": "stdout",
     "output_type": "stream",
     "text": [
      "[('item3', '24.5'), ('item2', '15.10'), ('item1', '12.20')]\n"
     ]
    }
   ],
   "source": [
    "list= [('item1', '12.20'), ('item2', '15.10'), ('item3', '24.5')]\n",
    "list.sort(reverse = True) \n",
    "\n",
    "print(list)\n"
   ]
  },
  {
   "cell_type": "code",
   "execution_count": 10,
   "id": "52fb9f27",
   "metadata": {},
   "outputs": [
    {
     "name": "stdout",
     "output_type": "stream",
     "text": [
      "1742\n",
      "2\n",
      "{'name': 'ali', 'compte': 1742, 'ag': 'personnel', 'classe': 2, 'matricule': 10}\n",
      "{'name': 'ali', 'compte': 1742, 'ag': 'personnel', 'classe': 2}\n",
      "10\n"
     ]
    }
   ],
   "source": [
    "D = {'name': 'ali', 'compte': 1742,'ag': 'personnel','classe':2, 'matricule':10}\n",
    "print (D['compte'])\n",
    "print (D['classe'])\n",
    "print (D)\n",
    "se = D.pop('matricule')\n",
    "print(D)\n",
    "print (se)"
   ]
  },
  {
   "cell_type": "code",
   "execution_count": 13,
   "id": "274ad9f8",
   "metadata": {},
   "outputs": [
    {
     "name": "stdout",
     "output_type": "stream",
     "text": [
      "{'name': 'ali', 'compte': 1742, 'ag': 'personnel', 'matricule': 10}\n"
     ]
    }
   ],
   "source": [
    "D = {'name': 'ali', 'compte': 1742,'ag': 'personnel','classe':2, 'matricule':10}\n",
    "D.pop(\"classe\")  \n",
    "print (D)"
   ]
  },
  {
   "cell_type": "code",
   "execution_count": 12,
   "id": "e788d281",
   "metadata": {},
   "outputs": [
    {
     "data": {
      "text/plain": [
       "{1: 1, 2: 4, 3: 9, 4: 16, 5: 25, 6: 36, 7: 49, 8: 64}"
      ]
     },
     "execution_count": 12,
     "metadata": {},
     "output_type": "execute_result"
    }
   ],
   "source": [
    "L = {i+1:(i+1)**2 for i in range (8)}\n",
    "L"
   ]
  },
  {
   "cell_type": "code",
   "execution_count": null,
   "id": "ac28bb40",
   "metadata": {},
   "outputs": [],
   "source": []
  }
 ],
 "metadata": {
  "kernelspec": {
   "display_name": "Python 3 (ipykernel)",
   "language": "python",
   "name": "python3"
  },
  "language_info": {
   "codemirror_mode": {
    "name": "ipython",
    "version": 3
   },
   "file_extension": ".py",
   "mimetype": "text/x-python",
   "name": "python",
   "nbconvert_exporter": "python",
   "pygments_lexer": "ipython3",
   "version": "3.10.9"
  }
 },
 "nbformat": 4,
 "nbformat_minor": 5
}
